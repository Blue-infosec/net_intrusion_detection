{
 "cells": [
  {
   "cell_type": "code",
   "execution_count": 63,
   "metadata": {},
   "outputs": [],
   "source": [
    "author=\"Jumabek Alikhanov\"\n",
    "date = 'Nov 22,2019'"
   ]
  },
  {
   "cell_type": "markdown",
   "metadata": {},
   "source": [
    "This is Final Project material for the \"Deep Learning\" class I took  "
   ]
  },
  {
   "cell_type": "markdown",
   "metadata": {},
   "source": [
    "## Download the dataset from https://www.unb.ca/cic/datasets/ids-2017.html\n",
    "We only need CSV files that is preprocessed and labeled for ML "
   ]
  },
  {
   "cell_type": "code",
   "execution_count": 64,
   "metadata": {},
   "outputs": [
    {
     "name": "stdout",
     "output_type": "stream",
     "text": [
      "The autoreload extension is already loaded. To reload it, use:\n",
      "  %reload_ext autoreload\n"
     ]
    }
   ],
   "source": [
    "#imports\n",
    "import os\n",
    "from os.path import join\n",
    "import glob\n",
    "import pandas as pd\n",
    "import numpy as np\n",
    "import time\n",
    "%load_ext autoreload"
   ]
  },
  {
   "cell_type": "code",
   "execution_count": 65,
   "metadata": {},
   "outputs": [],
   "source": [
    "# load data\n",
    "dataroot = 'MachineLearningCVE/'\n",
    "SEED=2"
   ]
  },
  {
   "cell_type": "code",
   "execution_count": 69,
   "metadata": {},
   "outputs": [],
   "source": [
    "label_names=  ['BENIGN', 'PortScan', 'Bot', 'DoS slowloris', 'DoS Slowhttptest',\n",
    "       'DoS Hulk', 'DoS GoldenEye', 'Heartbleed', 'DDoS',\n",
    "       'Web Attack � Brute Force', 'Web Attack � XSS',\n",
    "       'Web Attack � Sql Injection', 'Infiltration', 'FTP-Patator',\n",
    "       'SSH-Patator']"
   ]
  },
  {
   "cell_type": "code",
   "execution_count": 70,
   "metadata": {},
   "outputs": [
    {
     "name": "stdout",
     "output_type": "stream",
     "text": [
      "MachineLearningCVE/*.pcap_ISCX.csv\n",
      "there are 2830743 flow records with 79 feature dimension\n",
      "stripped column names\n",
      "dropped bad columns\n",
      "There are 0 nan entries\n",
      "converted to numeric\n"
     ]
    }
   ],
   "source": [
    "%autoreload 2\n",
    "from preprocessing import load_data\n",
    "X,y = load_data(dataroot) # reads csv file and returns np array of X,y -> of shape (N,D) and (N,1)"
   ]
  },
  {
   "cell_type": "code",
   "execution_count": null,
   "metadata": {},
   "outputs": [],
   "source": []
  },
  {
   "cell_type": "code",
   "execution_count": 71,
   "metadata": {},
   "outputs": [],
   "source": [
    "from preprocessing import balance_data, normalize\n",
    "X = normalize(X)"
   ]
  },
  {
   "cell_type": "code",
   "execution_count": 118,
   "metadata": {},
   "outputs": [],
   "source": [
    "\n",
    "%autoreload 2\n",
    "from models import Classifier\n",
    "\n",
    "def ensure_dir(dir_path):\n",
    "    if not os.path.exists(dir_path):\n",
    "        os.makedirs(dir_path)\n",
    "\n",
    "def getClassifier(args,runs_dir=None):\n",
    "    \n",
    "    (method,optim,lr,reg,batch_size,input_dim,num_class,num_epochs) = args\n",
    "    if runs_dir is not None:\n",
    "        ensure_dir(runs_dir)\n",
    "    \n",
    "    clf = Classifier(method,input_dim,num_class,lr=lr,reg=reg,num_epochs=num_epochs,\n",
    "                        batch_size=batch_size,runs_dir=runs_dir)\n",
    "    return clf\n"
   ]
  },
  {
   "cell_type": "code",
   "execution_count": 93,
   "metadata": {},
   "outputs": [],
   "source": [
    "sample_indices = [ 475690, 2654438, 1835983, 1207146,  202083] # specifically chosen to contain non benign classes"
   ]
  },
  {
   "cell_type": "code",
   "execution_count": 116,
   "metadata": {},
   "outputs": [],
   "source": [
    "#demo_y = [ 1,  0,  0,  2, 10]\n",
    "demo_y = y[sample_indices]\n",
    "demo_X = X[sample_indices,:]"
   ]
  },
  {
   "cell_type": "code",
   "execution_count": 123,
   "metadata": {},
   "outputs": [
    {
     "data": {
      "text/plain": [
       "array([ 1.29969907e-04, -1.14628173e-01, -2.89461932e-05, -2.53278995e-05,\n",
       "       -4.25815706e-05, -2.46312738e-05, -8.36422108e-03, -8.04888271e-03,\n",
       "       -9.79689229e-03, -9.67078842e-03, -4.42831255e-02, -1.21027576e-02,\n",
       "       -5.17109297e-02, -4.09200229e-02, -9.10326652e-03, -3.11070103e-02,\n",
       "       -7.22257718e-02, -1.34871318e-03, -1.12110160e-01, -1.74610410e-02,\n",
       "       -3.85976844e-02, -7.10584968e-02, -4.23392933e-03, -7.38678798e-02,\n",
       "       -1.07578710e-02, -1.75843649e-02, -3.47396992e-02, -3.77924112e-03,\n",
       "       -4.64464612e-02,  0.00000000e+00, -1.11278205e-04,  0.00000000e+00,\n",
       "        8.09805215e-07,  2.16128137e-06, -2.12874729e-02, -3.49614071e-03,\n",
       "       -1.13497991e-02, -3.80500555e-02, -5.07538840e-02, -6.16648234e-02,\n",
       "       -2.17028782e-02, -3.53797562e-02, -4.64464612e-02, -2.42339200e-04,\n",
       "        7.01929450e-01, -3.15844297e-01, -9.48231593e-02, -1.11278205e-04,\n",
       "       -2.43399001e-04,  2.02884362e-03, -4.85403128e-02, -9.79689229e-03,\n",
       "       -5.17109297e-02,  8.09805215e-07,  0.00000000e+00,  0.00000000e+00,\n",
       "        0.00000000e+00,  0.00000000e+00,  0.00000000e+00,  0.00000000e+00,\n",
       "       -2.89461932e-05, -4.26788902e-05, -2.53278995e-05, -2.46307573e-05,\n",
       "        1.83384605e-02, -3.03645786e-02, -2.53712951e-05,  5.15894772e-06,\n",
       "       -7.41375377e-04, -5.54368075e-04, -1.39256835e-03, -5.29961835e-04,\n",
       "       -6.93002790e-02, -6.55193860e-03, -7.24645928e-02, -6.60002753e-02],\n",
       "      dtype=float32)"
      ]
     },
     "execution_count": 123,
     "metadata": {},
     "output_type": "execute_result"
    }
   ],
   "source": [
    "demo_X[0,:]"
   ]
  },
  {
   "cell_type": "code",
   "execution_count": 124,
   "metadata": {},
   "outputs": [
    {
     "name": "stdout",
     "output_type": "stream",
     "text": [
      "Loaded MachineLearningCVE/runs/1D-CNN_conv_2_fc_1/4th_run/optim_Adam_lr_0.001_reg_1e-06_bs_5120 model trained with batch_size = 5120, seen 3 epochs and 352 mini batches\n",
      "True Class:PortScan             --> Predicted Class: PortScan             \n",
      "True Class:BENIGN               --> Predicted Class: BENIGN               \n",
      "True Class:BENIGN               --> Predicted Class: BENIGN               \n",
      "True Class:Bot                  --> Predicted Class: Bot                  \n",
      "True Class:Web Attack � XSS     --> Predicted Class: Web Attack � XSS     \n"
     ]
    }
   ],
   "source": [
    "\n",
    "#hyper-params\n",
    "batch_size = 5*1024 # increasing batch size with more gpu added\n",
    "optim = 'Adam'\n",
    "\n",
    "input_dim = 76\n",
    "num_class = len(np.unique(labels))\n",
    "num_epochs = 60\n",
    "lr = 1e-3\n",
    "reg = 1e-6\n",
    "\n",
    "\n",
    "accuracies = {}\n",
    "best_model = None\n",
    "best_acc = -1\n",
    "architecture = '1D-CNN_conv_2_fc_1'\n",
    "run_number = 4\n",
    "method='cnn2'\n",
    "\n",
    "\n",
    "\n",
    "classifier_args = (method,optim,lr,reg,batch_size,input_dim,num_class,num_epochs)\n",
    "config =  '{}/{}th_run/optim_{}_lr_{}_reg_{}_bs_{}'.format(architecture,run_number,optim,lr,reg,batch_size)\n",
    "runs_dir = join(dataroot,'runs',config)\n",
    "#loads classifier with the given parameter, threows error if classifier checkpoint is not found\n",
    "clf = getClassifier(classifier_args,runs_dir)        \n",
    "        \n",
    "pred = clf.predict(demo_X,eval_mode=True)\n",
    "for i in range(pred.shape[0]):\n",
    "    print('True Class:{:20} --> Predicted Class: {:20} '.format(label_names[demo_y[i]],label_names[pred[i]]))"
   ]
  },
  {
   "cell_type": "code",
   "execution_count": 126,
   "metadata": {},
   "outputs": [
    {
     "name": "stdout",
     "output_type": "stream",
     "text": [
      "Demo Prediction score 100.0\n"
     ]
    }
   ],
   "source": [
    "print(\"Demo Prediction score\",np.mean(pred==demo_y)*100 )"
   ]
  },
  {
   "cell_type": "code",
   "execution_count": null,
   "metadata": {},
   "outputs": [],
   "source": []
  }
 ],
 "metadata": {
  "kernelspec": {
   "display_name": "Python 3",
   "language": "python",
   "name": "python3"
  },
  "language_info": {
   "codemirror_mode": {
    "name": "ipython",
    "version": 3
   },
   "file_extension": ".py",
   "mimetype": "text/x-python",
   "name": "python",
   "nbconvert_exporter": "python",
   "pygments_lexer": "ipython3",
   "version": "3.6.8"
  }
 },
 "nbformat": 4,
 "nbformat_minor": 2
}
