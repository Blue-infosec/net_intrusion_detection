{
 "cells": [
  {
   "cell_type": "code",
   "execution_count": 2,
   "metadata": {},
   "outputs": [],
   "source": [
    "author=\"Jumabek Alikhanov\"\n",
    "date = 'Nov 22,2019'"
   ]
  },
  {
   "cell_type": "markdown",
   "metadata": {},
   "source": [
    "This is Final Project material for the \"Deep Learning\" class I took  "
   ]
  },
  {
   "cell_type": "markdown",
   "metadata": {},
   "source": [
    "## Download the dataset from https://www.unb.ca/cic/datasets/ids-2017.html\n",
    "We only need CSV files that is preprocessed and labeled for ML "
   ]
  },
  {
   "cell_type": "code",
   "execution_count": 3,
   "metadata": {},
   "outputs": [],
   "source": [
    "#imports\n",
    "import os\n",
    "from os.path import join\n",
    "import glob\n",
    "import pandas as pd\n",
    "import numpy as np\n",
    "import time\n",
    "%load_ext autoreload"
   ]
  },
  {
   "cell_type": "code",
   "execution_count": 4,
   "metadata": {},
   "outputs": [],
   "source": [
    "# load data\n",
    "dataroot = 'MachineLearningCVE/'\n",
    "SEED=2"
   ]
  },
  {
   "cell_type": "code",
   "execution_count": 5,
   "metadata": {},
   "outputs": [],
   "source": [
    "label_names=  ['BENIGN', 'PortScan', 'Bot', 'DoS slowloris', 'DoS Slowhttptest',\n",
    "       'DoS Hulk', 'DoS GoldenEye', 'Heartbleed', 'DDoS',\n",
    "       'Web Attack � Brute Force', 'Web Attack � XSS',\n",
    "       'Web Attack � Sql Injection', 'Infiltration', 'FTP-Patator',\n",
    "       'SSH-Patator']"
   ]
  },
  {
   "cell_type": "code",
   "execution_count": 6,
   "metadata": {},
   "outputs": [
    {
     "name": "stdout",
     "output_type": "stream",
     "text": [
      "MachineLearningCVE/*.pcap_ISCX.csv\n",
      "there are 2830743 flow records with 79 feature dimension\n",
      "stripped column names\n",
      "dropped bad columns\n",
      "There are 0 nan entries\n",
      "converted to numeric\n"
     ]
    }
   ],
   "source": [
    "%autoreload 2\n",
    "from preprocessing import load_data\n",
    "X,y = load_data(dataroot) # reads csv file and returns np array of X,y -> of shape (N,D) and (N,1)"
   ]
  },
  {
   "cell_type": "code",
   "execution_count": null,
   "metadata": {},
   "outputs": [],
   "source": []
  },
  {
   "cell_type": "code",
   "execution_count": 7,
   "metadata": {},
   "outputs": [],
   "source": [
    "from preprocessing import balance_data, normalize\n",
    "X = normalize(X)"
   ]
  },
  {
   "cell_type": "code",
   "execution_count": 8,
   "metadata": {},
   "outputs": [],
   "source": [
    "\n",
    "%autoreload 2\n",
    "from models import Classifier\n",
    "\n",
    "def ensure_dir(dir_path):\n",
    "    if not os.path.exists(dir_path):\n",
    "        os.makedirs(dir_path)\n",
    "\n",
    "def getClassifier(args,runs_dir=None):\n",
    "    \n",
    "    (method,optim,lr,reg,batch_size,input_dim,num_class,num_epochs) = args\n",
    "    if runs_dir is not None:\n",
    "        ensure_dir(runs_dir)\n",
    "    \n",
    "    clf = Classifier(method,input_dim,num_class,lr=lr,reg=reg,num_epochs=num_epochs,\n",
    "                        batch_size=batch_size,runs_dir=runs_dir)\n",
    "    return clf\n"
   ]
  },
  {
   "cell_type": "code",
   "execution_count": 9,
   "metadata": {},
   "outputs": [],
   "source": [
    "sample_indices = [ 475690, 2654438, 1835983, 1207146,  202083] # specifically chosen to contain non benign classes"
   ]
  },
  {
   "cell_type": "code",
   "execution_count": 10,
   "metadata": {},
   "outputs": [],
   "source": [
    "#demo_y = [ 1,  0,  0,  2, 10]\n",
    "demo_y = y[sample_indices]\n",
    "demo_X = X[sample_indices,:]"
   ]
  },
  {
   "cell_type": "code",
   "execution_count": 13,
   "metadata": {},
   "outputs": [
    {
     "data": {
      "text/plain": [
       "array([[ 1.29969907e-04, -1.14628173e-01, -2.89461932e-05,\n",
       "        -2.53278995e-05, -4.25815706e-05, -2.46312738e-05,\n",
       "        -8.36422108e-03, -8.04888271e-03, -9.79689229e-03,\n",
       "        -9.67078842e-03, -4.42831255e-02, -1.21027576e-02,\n",
       "        -5.17109297e-02, -4.09200229e-02, -9.10326652e-03,\n",
       "        -3.11070103e-02, -7.22257718e-02, -1.34871318e-03,\n",
       "        -1.12110160e-01, -1.74610410e-02, -3.85976844e-02,\n",
       "        -7.10584968e-02, -4.23392933e-03, -7.38678798e-02,\n",
       "        -1.07578710e-02, -1.75843649e-02, -3.47396992e-02,\n",
       "        -3.77924112e-03, -4.64464612e-02,  0.00000000e+00,\n",
       "        -1.11278205e-04,  0.00000000e+00,  8.09805215e-07,\n",
       "         2.16128137e-06, -2.12874729e-02, -3.49614071e-03,\n",
       "        -1.13497991e-02, -3.80500555e-02, -5.07538840e-02,\n",
       "        -6.16648234e-02, -2.17028782e-02, -3.53797562e-02,\n",
       "        -4.64464612e-02, -2.42339200e-04,  7.01929450e-01,\n",
       "        -3.15844297e-01, -9.48231593e-02, -1.11278205e-04,\n",
       "        -2.43399001e-04,  2.02884362e-03, -4.85403128e-02,\n",
       "        -9.79689229e-03, -5.17109297e-02,  8.09805215e-07,\n",
       "         0.00000000e+00,  0.00000000e+00,  0.00000000e+00,\n",
       "         0.00000000e+00,  0.00000000e+00,  0.00000000e+00,\n",
       "        -2.89461932e-05, -4.26788902e-05, -2.53278995e-05,\n",
       "        -2.46307573e-05,  1.83384605e-02, -3.03645786e-02,\n",
       "        -2.53712951e-05,  5.15894772e-06, -7.41375377e-04,\n",
       "        -5.54368075e-04, -1.39256835e-03, -5.29961835e-04,\n",
       "        -6.93002790e-02, -6.55193860e-03, -7.24645928e-02,\n",
       "        -6.60002753e-02],\n",
       "       [-1.16403177e-01,  8.43265295e-01,  5.75125487e-05,\n",
       "         3.29068353e-05,  1.03641669e-05, -1.00184807e-05,\n",
       "         4.81063826e-03, -8.04888271e-03, -4.57113888e-03,\n",
       "         1.70228747e-03,  1.04923226e-01, -1.41745815e-02,\n",
       "         2.99716815e-02,  5.75107299e-02,  1.27522619e-02,\n",
       "         1.84586402e-02,  6.81270752e-03, -1.35312986e-03,\n",
       "         8.45975399e-01,  2.42712162e-02,  2.02986449e-02,\n",
       "         7.97554199e-03, -8.51573702e-03,  8.34218144e-01,\n",
       "         3.33696306e-02,  4.26217690e-02,  4.42942493e-02,\n",
       "        -8.06012470e-03, -4.64464612e-02,  0.00000000e+00,\n",
       "        -1.11278205e-04,  0.00000000e+00,  8.20979494e-07,\n",
       "         2.60960383e-06, -2.12883782e-02, -3.49751022e-03,\n",
       "        -1.13497991e-02,  7.93552622e-02,  2.01076586e-02,\n",
       "         6.25557452e-02, -6.11257274e-03, -3.53797562e-02,\n",
       "        -4.64464612e-02, -2.42339200e-04,  7.01929450e-01,\n",
       "        -3.15844297e-01, -9.48231593e-02, -1.11278205e-04,\n",
       "        -2.43399001e-04, -4.38141311e-03,  1.35499537e-02,\n",
       "        -4.57113888e-03,  2.99716815e-02,  8.20979494e-07,\n",
       "         0.00000000e+00,  0.00000000e+00,  0.00000000e+00,\n",
       "         0.00000000e+00,  0.00000000e+00,  0.00000000e+00,\n",
       "         5.75125487e-05,  1.03888688e-05,  3.29068353e-05,\n",
       "        -1.00179650e-05,  1.83384605e-02, -1.54107362e-02,\n",
       "         4.48675637e-05,  5.14404655e-06, -4.86317032e-04,\n",
       "        -3.17133090e-04, -6.29368296e-04, -3.22298176e-04,\n",
       "         1.10058542e-02,  1.01353815e-02,  1.08687421e-02,\n",
       "        -1.96514167e-02],\n",
       "       [ 6.51583374e-01, -1.23213306e-01, -3.80471138e-05,\n",
       "        -3.21790467e-05, -4.25815706e-05, -2.46587351e-05,\n",
       "        -8.36422108e-03, -8.04888271e-03, -9.79689229e-03,\n",
       "        -9.67078842e-03, -4.45903428e-02, -1.41745815e-02,\n",
       "        -5.27453236e-02, -4.09200229e-02, -1.08198598e-02,\n",
       "        -3.44252512e-02, -7.65200704e-02, -1.35262159e-03,\n",
       "        -1.20691292e-01, -2.17516087e-02, -3.86151858e-02,\n",
       "        -7.53577948e-02, -8.51577055e-03, -8.24485421e-02,\n",
       "        -1.50482003e-02, -1.76025666e-02, -3.90390828e-02,\n",
       "        -8.06051586e-03, -4.64464612e-02,  0.00000000e+00,\n",
       "        -1.11278205e-04,  0.00000000e+00,  8.07942854e-07,\n",
       "         2.13534531e-06, -1.61602367e-02,  4.19471087e-03,\n",
       "        -1.13497991e-02, -3.82917970e-02, -5.15244305e-02,\n",
       "        -6.23426437e-02, -2.17033364e-02, -3.53797562e-02,\n",
       "        -4.64464612e-02, -2.42339200e-04, -2.98070520e-01,\n",
       "         6.84155703e-01,  9.05176818e-01, -1.11278205e-04,\n",
       "        -2.43399001e-04,  2.02884362e-03, -4.93108593e-02,\n",
       "        -9.79689229e-03, -5.27453236e-02,  8.07942854e-07,\n",
       "         0.00000000e+00,  0.00000000e+00,  0.00000000e+00,\n",
       "         0.00000000e+00,  0.00000000e+00,  0.00000000e+00,\n",
       "        -3.80471138e-05, -4.26788902e-05, -3.21790467e-05,\n",
       "        -2.46582204e-05, -1.02345146e-01, -2.68702619e-02,\n",
       "        -2.53712951e-05,  5.16639830e-06, -7.41375377e-04,\n",
       "        -5.54368075e-04, -1.39256835e-03, -5.29961835e-04,\n",
       "        -6.93002790e-02, -6.55193860e-03, -7.24645928e-02,\n",
       "        -6.60002753e-02],\n",
       "       [-1.21942207e-01, -5.89157008e-02, -6.19389266e-06,\n",
       "        -1.84767541e-05, -3.82404833e-05, -6.95037352e-06,\n",
       "        -7.55841890e-03, -8.04888271e-03, -8.61861091e-03,\n",
       "        -8.87691136e-03,  2.54436791e-01, -1.41745815e-02,\n",
       "         3.47461551e-01,  3.46328944e-01, -5.46222273e-03,\n",
       "        -1.06604667e-02, -1.80054232e-02, -1.35310495e-03,\n",
       "        -6.10470511e-02, -1.32310018e-02, -7.34060584e-03,\n",
       "        -1.68425925e-02, -8.51562060e-03, -7.77878240e-02,\n",
       "        -1.38830207e-02, -1.42986514e-02, -3.43875326e-02,\n",
       "        -8.06045812e-03, -4.64464612e-02,  0.00000000e+00,\n",
       "        -1.11278205e-04,  0.00000000e+00,  8.12288363e-07,\n",
       "         2.20944821e-06, -2.12880969e-02, -3.49727250e-03,\n",
       "        -1.13497991e-02,  1.97002321e-01,  1.98240116e-01,\n",
       "         3.82147580e-01,  1.75756261e-01, -3.53797562e-02,\n",
       "        -4.64464612e-02, -2.42339200e-04, -2.98070520e-01,\n",
       "         6.84155703e-01, -9.48231593e-02, -1.11278205e-04,\n",
       "        -2.43399001e-04, -4.38141311e-03,  1.81241021e-01,\n",
       "        -8.61861091e-03,  3.47461551e-01,  8.12288363e-07,\n",
       "         0.00000000e+00,  0.00000000e+00,  0.00000000e+00,\n",
       "         0.00000000e+00,  0.00000000e+00,  0.00000000e+00,\n",
       "        -6.19389266e-06, -3.83278020e-05, -1.84767541e-05,\n",
       "        -6.94985783e-06, -1.02757134e-01, -2.68702619e-02,\n",
       "         2.72424859e-06,  5.14404655e-06,  4.82551928e-04,\n",
       "        -5.54368075e-04, -1.68641054e-04,  6.93965470e-04,\n",
       "        -1.07850796e-02, -6.55193860e-03, -1.39493914e-02,\n",
       "        -7.48507492e-03],\n",
       "       [-1.02898948e-01, -1.23213336e-01, -3.80471138e-05,\n",
       "        -3.21790467e-05, -4.25815706e-05, -2.46495820e-05,\n",
       "        -8.36422108e-03, -8.04888271e-03, -9.79689229e-03,\n",
       "        -9.67078842e-03, -4.42831255e-02, -1.21027576e-02,\n",
       "        -5.17109297e-02, -4.09200229e-02, -1.08198849e-02,\n",
       "        -3.44252512e-02, -7.65201002e-02, -1.35264662e-03,\n",
       "        -1.20691292e-01, -2.17516087e-02, -3.86151858e-02,\n",
       "        -7.53577948e-02, -8.51577055e-03, -8.24485421e-02,\n",
       "        -1.50482003e-02, -1.76025666e-02, -3.90390828e-02,\n",
       "        -8.06051586e-03, -4.64464612e-02,  0.00000000e+00,\n",
       "        -1.11278205e-04,  0.00000000e+00,  8.08191146e-07,\n",
       "         2.12422992e-06, -1.59120988e-02,  4.56691999e-03,\n",
       "        -1.13497991e-02, -3.80500555e-02, -5.09251133e-02,\n",
       "        -6.16105087e-02, -2.17028018e-02, -3.53797562e-02,\n",
       "        -4.64464612e-02, -2.42339200e-04,  7.01929450e-01,\n",
       "        -3.15844297e-01, -9.48231593e-02, -1.11278205e-04,\n",
       "        -2.43399001e-04,  2.02884362e-03, -4.85403128e-02,\n",
       "        -9.79689229e-03, -5.17109297e-02,  8.08191146e-07,\n",
       "         0.00000000e+00,  0.00000000e+00,  0.00000000e+00,\n",
       "         0.00000000e+00,  0.00000000e+00,  0.00000000e+00,\n",
       "        -3.80471138e-05, -4.26788902e-05, -3.21790467e-05,\n",
       "        -2.46490654e-05,  3.38900000e-01, -3.03645786e-02,\n",
       "        -2.53712951e-05,  5.18129946e-06, -7.41375377e-04,\n",
       "        -5.54368075e-04, -1.39256835e-03, -5.29961835e-04,\n",
       "        -6.93002790e-02, -6.55193860e-03, -7.24645928e-02,\n",
       "        -6.60002753e-02]], dtype=float32)"
      ]
     },
     "execution_count": 13,
     "metadata": {},
     "output_type": "execute_result"
    }
   ],
   "source": [
    "demo_X"
   ]
  },
  {
   "cell_type": "code",
   "execution_count": 124,
   "metadata": {},
   "outputs": [
    {
     "name": "stdout",
     "output_type": "stream",
     "text": [
      "Loaded MachineLearningCVE/runs/1D-CNN_conv_2_fc_1/4th_run/optim_Adam_lr_0.001_reg_1e-06_bs_5120 model trained with batch_size = 5120, seen 3 epochs and 352 mini batches\n",
      "True Class:PortScan             --> Predicted Class: PortScan             \n",
      "True Class:BENIGN               --> Predicted Class: BENIGN               \n",
      "True Class:BENIGN               --> Predicted Class: BENIGN               \n",
      "True Class:Bot                  --> Predicted Class: Bot                  \n",
      "True Class:Web Attack � XSS     --> Predicted Class: Web Attack � XSS     \n"
     ]
    }
   ],
   "source": [
    "\n",
    "#hyper-params\n",
    "batch_size = 5*1024 # increasing batch size with more gpu added\n",
    "optim = 'Adam'\n",
    "\n",
    "input_dim = 76\n",
    "num_class = len(np.unique(labels))\n",
    "num_epochs = 60\n",
    "lr = 1e-3\n",
    "reg = 1e-6\n",
    "\n",
    "\n",
    "accuracies = {}\n",
    "best_model = None\n",
    "best_acc = -1\n",
    "architecture = '1D-CNN_conv_2_fc_1'\n",
    "run_number = 4\n",
    "method='cnn2'\n",
    "\n",
    "\n",
    "\n",
    "classifier_args = (method,optim,lr,reg,batch_size,input_dim,num_class,num_epochs)\n",
    "config =  '{}/{}th_run/optim_{}_lr_{}_reg_{}_bs_{}'.format(architecture,run_number,optim,lr,reg,batch_size)\n",
    "runs_dir = join(dataroot,'runs',config)\n",
    "#loads classifier with the given parameter, threows error if classifier checkpoint is not found\n",
    "clf = getClassifier(classifier_args,runs_dir)        \n",
    "        \n",
    "pred = clf.predict(demo_X,eval_mode=True)\n",
    "for i in range(pred.shape[0]):\n",
    "    print('True Class:{:20} --> Predicted Class: {:20} '.format(label_names[demo_y[i]],label_names[pred[i]]))"
   ]
  },
  {
   "cell_type": "code",
   "execution_count": 126,
   "metadata": {},
   "outputs": [
    {
     "name": "stdout",
     "output_type": "stream",
     "text": [
      "Demo Prediction score 100.0\n"
     ]
    }
   ],
   "source": [
    "print(\"Demo Prediction score\",np.mean(pred==demo_y)*100 )"
   ]
  },
  {
   "cell_type": "code",
   "execution_count": null,
   "metadata": {},
   "outputs": [],
   "source": []
  }
 ],
 "metadata": {
  "kernelspec": {
   "display_name": "Python 3",
   "language": "python",
   "name": "python3"
  },
  "language_info": {
   "codemirror_mode": {
    "name": "ipython",
    "version": 3
   },
   "file_extension": ".py",
   "mimetype": "text/x-python",
   "name": "python",
   "nbconvert_exporter": "python",
   "pygments_lexer": "ipython3",
   "version": "3.6.8"
  }
 },
 "nbformat": 4,
 "nbformat_minor": 2
}
