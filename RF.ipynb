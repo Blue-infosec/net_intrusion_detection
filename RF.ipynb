{
 "cells": [
  {
   "cell_type": "code",
   "execution_count": 1,
   "metadata": {},
   "outputs": [],
   "source": [
    "author=\"Jumabek Alikhanov\"\n",
    "date = 'Nov 19,2019'"
   ]
  },
  {
   "cell_type": "code",
   "execution_count": 2,
   "metadata": {},
   "outputs": [],
   "source": [
    "#imports\n",
    "import os\n",
    "from os.path import join\n",
    "import glob\n",
    "import pandas as pd\n",
    "import numpy as np\n",
    "from sklearn.ensemble import RandomForestClassifier\n",
    "%load_ext autoreload"
   ]
  },
  {
   "cell_type": "code",
   "execution_count": 3,
   "metadata": {},
   "outputs": [],
   "source": [
    "# load data\n",
    "dataroot = 'MachineLearningCVE/'\n",
    "SEED=2"
   ]
  },
  {
   "cell_type": "code",
   "execution_count": null,
   "metadata": {},
   "outputs": [
    {
     "name": "stdout",
     "output_type": "stream",
     "text": [
      "MachineLearningCVE/*.pcap_ISCX.csv\n",
      "there are 2830743 flow records with 79 feature dimension\n",
      "stripped col names\n",
      "dropped bad columns\n"
     ]
    }
   ],
   "source": [
    "\n",
    "from preprocessing import load_data\n",
    "X,y = load_data(dataroot) # reads csv file and returns np array of X,y -> of shape (N,D) and (N,1)"
   ]
  },
  {
   "cell_type": "code",
   "execution_count": null,
   "metadata": {},
   "outputs": [],
   "source": [
    "from preprocessing import balance_data, normalize\n",
    "#X = normalize(X)\n"
   ]
  },
  {
   "cell_type": "code",
   "execution_count": null,
   "metadata": {},
   "outputs": [],
   "source": [
    "# Random Foresty with 10 DecisionTrees\n",
    "from sklearn.model_selection import StratifiedKFold\n",
    "from sklearn.model_selection import StratifiedShuffleSplit\n",
    "from sklearn import metrics\n",
    "\n",
    "K=5\n",
    "results = {}\n",
    "skf = StratifiedKFold(n_splits=K,random_state=SEED)\n",
    "\n",
    "for fold_index, (dev_index,test_index) in enumerate(skf.split(X,y)): \n",
    "    print('---------------------------------------------')\n",
    "    print('Fold #{}'.format(fold_index))    \n",
    "    X_dev = X[dev_index]\n",
    "    y_dev = y[dev_index]\n",
    "    X_test = X[test_index]\n",
    "    y_test = y[test_index]\n",
    "    \n",
    "    sss = StratifiedShuffleSplit(n_splits=1, test_size=0.2, random_state=SEED)\n",
    "    for train_index, val_index in sss.split(X_dev, y_dev): # runs only once\n",
    "        X_train = X_dev[train_index]\n",
    "        y_train = y_dev[train_index]\n",
    "        X_val = X_dev[val_index]\n",
    "        y_val = y_dev[val_index]\n",
    "        break\n",
    "    \n",
    "    X_train,y_train = balance_data(X_train,y_train)\n",
    "    clf = RandomForestClassifier(n_estimators=10, random_state=SEED)\n",
    "    clf.fit(X_train,y_train)\n",
    "    \n",
    "    pred = clf.predict(X_val)\n",
    "    imbalanced_val_acc = metrics.accuracy_score(y_val,pred)*100        \n",
    "    val_acc = metrics.balanced_accuracy_score(y_val,pred)*100\n",
    "\n",
    "    pred = clf.predict(X_test)\n",
    "    test_acc = metrics.balanced_accuracy_score(y_test,pred)*100\n",
    "    print('val acc:',imbalanced_val_acc)\n",
    "    print('balanced val acc: ',val_acc)\n",
    "    print('balanced test acc: ',test_acc)\n",
    "    \n",
    "    results[fold_index]= (imbalanced_val_acc, val_acc, test_acc)\n",
    "    \n"
   ]
  },
  {
   "cell_type": "code",
   "execution_count": null,
   "metadata": {},
   "outputs": [],
   "source": [
    "sum_imbalanced_val_acc = 0\n",
    "sum_val_acc = 0\n",
    "sum_test_acc = 0\n",
    "for fold_index,res in results.items():\n",
    "    (acc,balanced_acc,test_acc) = res\n",
    "    sum_imbalanced_val_acc+=acc\n",
    "    sum_val_acc +=balanced_acc\n",
    "    sum_test_acc+= test_acc\n",
    "print(\"{}-fold evaluation:\".format(K))\n",
    "print('imbalanced val acc:',sum_imbalanced_val_acc/K)\n",
    "print('val acc: ',sum_val_acc/K)\n",
    "print('test acc: ',sum_test_acc/K)\n",
    "print('{0:.2f} {1:.2f} {2:.2f}'.format(sum_imbalanced_val_acc/K,sum_val_acc/K,sum_test_acc/K))"
   ]
  },
  {
   "cell_type": "code",
   "execution_count": null,
   "metadata": {},
   "outputs": [],
   "source": []
  },
  {
   "cell_type": "code",
   "execution_count": null,
   "metadata": {},
   "outputs": [],
   "source": []
  },
  {
   "cell_type": "code",
   "execution_count": null,
   "metadata": {},
   "outputs": [],
   "source": []
  },
  {
   "cell_type": "code",
   "execution_count": null,
   "metadata": {},
   "outputs": [],
   "source": []
  }
 ],
 "metadata": {
  "kernelspec": {
   "display_name": "Python 3",
   "language": "python",
   "name": "python3"
  },
  "language_info": {
   "codemirror_mode": {
    "name": "ipython",
    "version": 3
   },
   "file_extension": ".py",
   "mimetype": "text/x-python",
   "name": "python",
   "nbconvert_exporter": "python",
   "pygments_lexer": "ipython3",
   "version": "3.6.8"
  }
 },
 "nbformat": 4,
 "nbformat_minor": 2
}
